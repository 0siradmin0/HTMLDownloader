{
  "nbformat": 4,
  "nbformat_minor": 0,
  "metadata": {
    "colab": {
      "name": "VideoDoownloaderBot",
      "provenance": [],
      "authorship_tag": "ABX9TyOb+sVQiCRALKAE0KbFsx3x",
      "include_colab_link": true
    },
    "kernelspec": {
      "display_name": "Python 3",
      "name": "python3"
    },
    "language_info": {
      "name": "python"
    }
  },
  "cells": [
    {
      "cell_type": "markdown",
      "metadata": {
        "id": "view-in-github",
        "colab_type": "text"
      },
      "source": [
        "<a href=\"https://colab.research.google.com/github/DaruaraFriends/VideoDownloaderBot/blob/main/VideoDownloaderBot.ipynb\" target=\"_parent\"><img src=\"https://colab.research.google.com/assets/colab-badge.svg\" alt=\"Open In Colab\"/></a>"
      ]
    },
    {
      "cell_type": "code",
      "metadata": {
        "cellView": "form",
        "id": "EBqWM-x61KSn"
      },
      "source": [
        "#@title <<----<strong> Auto Reconnect\n",
        "%%capture\n",
        "import IPython\n",
        "from google.colab import output\n",
        "\n",
        "display(IPython.display.Javascript('''\n",
        "function ClickConnect(){\n",
        "  btn = document.querySelector(\"colab-connect-button\")\n",
        "  if (btn != null){\n",
        "    console.log(\"Click colab-connect-button\"); \n",
        "    btn.click() \n",
        "    }\n",
        "  \n",
        "  btn = document.getElementById('ok')\n",
        "  if (btn != null){\n",
        "    console.log(\"Click reconnect\"); \n",
        "    btn.click() \n",
        "    }\n",
        "  }\n",
        "  \n",
        "setInterval(ClickConnect,60000)\n",
        "'''))"
      ],
      "execution_count": null,
      "outputs": []
    },
    {
      "cell_type": "code",
      "metadata": {
        "id": "G7-1QZEdQXCT"
      },
      "source": [
        "!apt install ffmpeg aria2\n",
        "!git clone https://github.com/DaruaraFriends/VideoDownloaderBot\n",
        "%cd VideoDownloaderBot"
      ],
      "execution_count": null,
      "outputs": []
    },
    {
      "cell_type": "code",
      "metadata": {
        "id": "5Iu9JTYnTMe3"
      },
      "source": [
        "# Edit sample.env first\n",
        "!cp sample.env .env"
      ],
      "execution_count": null,
      "outputs": []
    },
    {
      "cell_type": "code",
      "metadata": {
        "id": "UQhZ5LqSRIA2"
      },
      "source": [
        "!pip3 install -U pip\n",
        "!pip3 install -r ./requirements.txt"
      ],
      "execution_count": null,
      "outputs": []
    },
    {
      "cell_type": "code",
      "metadata": {
        "colab": {
          "background_save": true
        },
        "id": "k2ARB3FQQyI-"
      },
      "source": [
        "!python3 bot.py"
      ],
      "execution_count": null,
      "outputs": []
    }
  ]
}
