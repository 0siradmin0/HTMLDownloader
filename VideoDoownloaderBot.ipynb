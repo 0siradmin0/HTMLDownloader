{
  "nbformat": 4,
  "nbformat_minor": 0,
  "metadata": {
    "colab": {
      "name": "VideoDoownloaderBot",
      "provenance": [],
      "authorship_tag": "ABX9TyPC+VYz7TudBVLG5XA7pivb",
      "include_colab_link": true
    },
    "kernelspec": {
      "name": "python3",
      "display_name": "Python 3"
    },
    "language_info": {
      "name": "python"
    }
  },
  "cells": [
    {
      "cell_type": "markdown",
      "metadata": {
        "id": "view-in-github",
        "colab_type": "text"
      },
      "source": [
        "<a href=\"https://colab.research.google.com/github/DaruaraFriends/VideoDownloaderBot/blob/main/VideoDoownloaderBot.ipynb\" target=\"_parent\"><img src=\"https://colab.research.google.com/assets/colab-badge.svg\" alt=\"Open In Colab\"/></a>"
      ]
    },
    {
      "cell_type": "code",
      "metadata": {
        "id": "G7-1QZEdQXCT"
      },
      "source": [
        "!apt install ffmpeg aria2\n",
        "!git clone https://github.com/DaruaraFriends/VideoDownloaderBot\n",
        "%cd VideoDownloaderBot"
      ],
      "execution_count": null,
      "outputs": []
    },
    {
      "cell_type": "code",
      "metadata": {
        "id": "5Iu9JTYnTMe3"
      },
      "source": [
        "# Edit sample.env first\n",
        "!cp sample.env .env"
      ],
      "execution_count": null,
      "outputs": []
    },
    {
      "cell_type": "code",
      "metadata": {
        "id": "UQhZ5LqSRIA2"
      },
      "source": [
        "!pip3 install -U pip\n",
        "!pip3 install -r ./requirements.txt"
      ],
      "execution_count": null,
      "outputs": []
    },
    {
      "cell_type": "code",
      "metadata": {
        "colab": {
          "base_uri": "https://localhost:8080/"
        },
        "id": "k2ARB3FQQyI-",
        "outputId": "c9116941-3827-4ac9-c35f-20895ff756c7"
      },
      "source": [
        "!python3 bot.py"
      ],
      "execution_count": null,
      "outputs": [
        {
          "output_type": "stream",
          "text": [
            "Pyrogram v1.2.9, Copyright (C) 2017-2021 Dan <https://github.com/delivrance>\n",
            "Licensed under the terms of the GNU Lesser General Public License v3 or later (LGPLv3+)\n",
            "\n"
          ],
          "name": "stdout"
        }
      ]
    }
  ]
}